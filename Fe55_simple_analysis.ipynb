{
 "cells": [
  {
   "cell_type": "code",
   "execution_count": 1,
   "metadata": {},
   "outputs": [],
   "source": [
    "%reset -f\n",
    "%matplotlib inline\n",
    "%load_ext autoreload\n",
    "%autoreload 2\n",
    "\n",
    "import matplotlib.pyplot as plt\n",
    "plt.rc('image', interpolation='nearest', origin='lower', cmap = 'hot')\n",
    "plt.rcParams[\"axes.formatter.useoffset\"] = False\n",
    "plt.rcParams['figure.figsize'] = [14.0, 10.0]\n",
    "rcParams = plt.rcParams.copy()\n",
    "\n",
    "import numpy as np\n",
    "import posixpath, glob, datetime, os, sys\n",
    "\n",
    "from astropy.io import fits as pyfits\n",
    "\n",
    "import sep\n",
    "\n",
    "from skimage.util import view_as_blocks\n",
    "\n",
    "from tqdm import tqdm,tqdm_notebook"
   ]
  },
  {
   "cell_type": "markdown",
   "metadata": {},
   "source": [
    "# Image de-mosaicking and simple de-biasing"
   ]
  },
  {
   "cell_type": "code",
   "execution_count": 8,
   "metadata": {},
   "outputs": [],
   "source": [
    "def parse_det(string):\n",
    "    x0,x1,y0,y1 = [int(_)-1 for _ in sum([_.split(':') for _ in string[1:-1].split(',')], [])]\n",
    "    \n",
    "    return x0,x1,y0,y1\n",
    "\n",
    "def load_mosaic(filename, fn=None, subtract_overscans=True, bias=None):\n",
    "    f = pyfits.open(filename)\n",
    "\n",
    "    if len(f) == 1:\n",
    "        header = f[0].header\n",
    "        image0 = f[0].data.astype(np.double)\n",
    "\n",
    "        if subtract_overscans and header.get('AVGBIAS'):\n",
    "            image0 -= header['AVGBIAS']\n",
    "\n",
    "        if bias is not None:\n",
    "            image0 -= bias\n",
    "\n",
    "        if fn and isinstance(fn, types.FunctionType):\n",
    "            image0 = fn(image0)\n",
    "\n",
    "    else:\n",
    "        header0 = f[0].header\n",
    "        \n",
    "        if header0.get('DETSIZE'):\n",
    "            _,iw,_,ih = parse_det(header0['DETSIZE'])\n",
    "        elif f[1].header.get('DETSIZE'):\n",
    "            _,iw,_,ih = parse_det(f[1].header['DETSIZE'])\n",
    "        else:\n",
    "            print \"Can't find DETSIZE keyword\"\n",
    "            return None\n",
    "            \n",
    "        iw += 1\n",
    "        ih += 1\n",
    "        image0 = np.zeros(shape=(ih,iw))\n",
    "\n",
    "        for _ in xrange(1,len(f)):\n",
    "            header = f[_].header\n",
    "            if not header.get('DATASEC'):\n",
    "                continue\n",
    "\n",
    "            image = f[_].data.astype(np.double)\n",
    "\n",
    "            x0,x1,y0,y1 = parse_det(header['DATASEC'])\n",
    "            xx0,xx1,yy0,yy1 = parse_det(header['DETSEC'])\n",
    "\n",
    "            dxx = 1 if xx1 > xx0 else -1\n",
    "            dyy = 1 if yy1 > yy0 else -1\n",
    "\n",
    "            if xx1 > xx0:\n",
    "                dxx = 1\n",
    "                xx1 += 1\n",
    "            else:\n",
    "                dxx = -1\n",
    "                if xx1 > 0:\n",
    "                    xx1 -= 1\n",
    "                else:\n",
    "                    xx1 = None\n",
    "\n",
    "            if yy1 > yy0:\n",
    "                dyy = 1\n",
    "                yy1 += 1\n",
    "            else:\n",
    "                dyy = -1\n",
    "                if yy1 > 0:\n",
    "                    yy1 -= 1\n",
    "                else:\n",
    "                    yy1 = None\n",
    "\n",
    "            sub = image[y0:y1+1,x0:x1+1]\n",
    "\n",
    "            if subtract_overscans:\n",
    "                sub -= header.get('AVGBIAS', 0.0)\n",
    "    \n",
    "            if bias is not None:\n",
    "                sub -= bias[yy0:yy1:dyy,xx0:xx1:dxx]\n",
    "\n",
    "            if fn and isinstance(fn, types.FunctionType):\n",
    "                sub = fn(sub)\n",
    "            \n",
    "            image0[yy0:yy1:dyy,xx0:xx1:dxx] = sub\n",
    "\n",
    "    return image0\n"
   ]
  },
  {
   "cell_type": "markdown",
   "metadata": {},
   "source": [
    "# MCMC-based Gaussian fitting"
   ]
  },
  {
   "cell_type": "code",
   "execution_count": 9,
   "metadata": {},
   "outputs": [],
   "source": [
    "import ngmix\n",
    "from ngmix.fitting import LMSimple, MCMCSimple\n",
    "\n",
    "def srandu(num=None):\n",
    "#  Generate random numbers in the symmetric distribution [-1,1]\n",
    "    return 2*(np.random.random(num)-0.5)\n",
    "\n",
    "def get_sigma(img, weight_map=None, xc=4.0, yc=4.0, nwalkers=80, burnin=400, nstep=400):\n",
    "    guess=np.zeros((nwalkers, 6))\n",
    "\n",
    "    if weight_map is None:\n",
    "        weight_map = 1./np.sqrt(np.fabs(img))\n",
    "        \n",
    "    obs = ngmix.observation.Observation(img, weight=weight_map)\n",
    "    mc = MCMCSimple(obs, 'gauss', nwalkers=nwalkers, nsub=4)\n",
    "    guess[:,0] = xc + 0.1*srandu(nwalkers)\n",
    "    guess[:,1] = yc + 0.1*srandu(nwalkers)\n",
    "    guess[:,2] = 0. + 0.1*srandu(nwalkers)\n",
    "    guess[:,3] = 0. + 0.1*srandu(nwalkers)\n",
    "    guess[:,4] = 0.32 * (1.0 + 0.1*srandu(nwalkers)) # 0.32 = 2*(0.4)**2\n",
    "    guess[:,5] = np.sum(img) * (1.0 + 0.1*srandu(nwalkers))\n",
    "\n",
    "    pos = mc.run_mcmc(guess, burnin)\n",
    "    pos = mc.run_mcmc(pos,   nstep)\n",
    "\n",
    "    mc.calc_result()\n",
    "\n",
    "    result = mc.get_result()\n",
    "\n",
    "    if result['flags'] == 0:\n",
    "        return result['pars'][0], result['pars'][1], np.sqrt(result['pars'][4]/2.0)\n",
    "    else:\n",
    "        return 0.0, 0.0, 0.0"
   ]
  },
  {
   "cell_type": "markdown",
   "metadata": {},
   "source": [
    "# Actual Fe55 extraction and measurement code"
   ]
  },
  {
   "cell_type": "code",
   "execution_count": 10,
   "metadata": {},
   "outputs": [],
   "source": [
    "def make_kernel(r0=1.0):\n",
    "    x,y = np.mgrid[np.floor(-3.0*r0):np.ceil(3.0*r0+1), np.floor(-3.0*r0):np.ceil(3.0*r0+1)]\n",
    "    r = np.hypot(x,y)\n",
    "    image = np.exp(-r**2/2/r0**2)\n",
    "\n",
    "    return image\n",
    "\n",
    "def mad(arr):\n",
    "    \"\"\" Median Absolute Deviation: a \"Robust\" version of standard deviation.\n",
    "        Indices variabililty of the sample.\n",
    "        https://en.wikipedia.org/wiki/Median_absolute_deviation\n",
    "    \"\"\"\n",
    "    arr = np.ma.array(arr).compressed() # should be faster to not use masked arrays.\n",
    "    med = np.median(arr)\n",
    "    return np.median(np.abs(arr - med))\n",
    "\n",
    "def process_subimage(sub, gain=1.0):\n",
    "    kernel = make_kernel(1.0)\n",
    "    \n",
    "    bg = sep.Background(sub)\n",
    "    image1 = sub - bg.back()\n",
    "\n",
    "    sep.set_extract_pixstack(image1.shape[0]*image1.shape[1])\n",
    "\n",
    "    obj0 = sep.extract(image1, err=bg.rms(), thresh=10.0, minarea=1, filter_kernel=kernel)\n",
    "\n",
    "    idx = np.abs(obj0['npix'] - np.median(obj0['npix'])) < 3.0*mad(obj0['npix'])\n",
    "\n",
    "    fwhm = 2.0*np.sqrt(np.hypot(obj0['a'][idx], obj0['b'][idx])*np.log(2))\n",
    "    fwhm = np.median(fwhm)\n",
    "\n",
    "    flux,fluxerr,flag = sep.sum_circle(image1, obj0['x'], obj0['y'], 2.0*fwhm, err=bg.rms(), gain=gain)\n",
    "\n",
    "    idx &= np.abs(flux - np.median(flux)) < 3.0*mad(flux)\n",
    "    idx &= (flag == 0)\n",
    "    # TODO: proper filtering of other peaks\n",
    "\n",
    "    xs,ys,fluxes = obj0['x'][idx], obj0['y'][idx],flux[idx]\n",
    "\n",
    "    sigmas = []\n",
    "\n",
    "    # for iter,_ in enumerate(xrange(len(xs))):\n",
    "    for _ in tqdm_notebook(xrange(len(xs))):\n",
    "        x0,y0 = int(np.round(xs[_])),int(np.round(ys[_]))\n",
    "        img = image[y0-3:y0+4, x0-3:x0+4]\n",
    "        wmap = 1.0/bg.rms()[y0-3:y0+4, x0-3:x0+4]**2\n",
    "\n",
    "        x1,y1,sigma1 = get_sigma(img.T, weight_map=wmap.T, xc=xs[_]-x0+3, yc=ys[_]-y0+3, nstep=400)\n",
    "\n",
    "        sigmas.append(sigma1)\n",
    "\n",
    "    sigmas = np.array(sigmas)\n",
    "\n",
    "    return sigmas"
   ]
  },
  {
   "cell_type": "markdown",
   "metadata": {},
   "source": [
    "# Now apply it to all sub-images of all acquired frames"
   ]
  },
  {
   "cell_type": "code",
   "execution_count": 12,
   "metadata": {},
   "outputs": [
    {
     "name": "stdout",
     "output_type": "stream",
     "text": [
      "/gpfs/mnt/gpfs01/astro/workarea/ccdtest/prod/ITL-CCD/ITL-3800C-164/6708/fe55_acq/v0/41382/ITL-3800C-164_fe55_fe55_001_20180202060645.fits\n"
     ]
    },
    {
     "data": {
      "application/vnd.jupyter.widget-view+json": {
       "model_id": "b77f222032804fdfb7f8f9eaa5dc0a69",
       "version_major": 2,
       "version_minor": 0
      },
      "text/plain": [
       "HBox(children=(IntProgress(value=0, max=806), HTML(value=u'')))"
      ]
     },
     "metadata": {},
     "output_type": "display_data"
    },
    {
     "name": "stdout",
     "output_type": "stream",
     "text": [
      "\n"
     ]
    }
   ],
   "source": [
    "for filename in sorted(glob.glob('/gpfs/mnt/gpfs01/astro/workarea/ccdtest/prod/ITL-CCD/ITL-3800C-164/*/fe55_acq/v0/*/*.fits')):\n",
    "    if 'bias' in filename:\n",
    "        continue\n",
    "        \n",
    "    print filename\n",
    "  \n",
    "    header = pyfits.getheader(filename, 0)\n",
    "    gain = header.get('CCDGAIN', 1.0)\n",
    "    \n",
    "    # Load and reconstruct the mosaic subtracting overscans\n",
    "    image = load_mosaic(filename)\n",
    "    \n",
    "    geometry = [2,8]\n",
    "    v = view_as_blocks(image, (image.shape[0]/geometry[0], image.shape[1]/geometry[1]))\n",
    "\n",
    "    for _ in xrange(geometry[0]):\n",
    "        for __ in xrange(geometry[1]):\n",
    "            sub = v[_,__].astype(np.double).copy() # Single amplifier block\n",
    "\n",
    "            sigmas = process_subimage(sub)\n",
    "            \n",
    "            break\n",
    "        break\n",
    "    \n",
    "    break"
   ]
  },
  {
   "cell_type": "code",
   "execution_count": 13,
   "metadata": {},
   "outputs": [
    {
     "data": {
      "text/plain": [
       "Text(0.5,0,'Sigma')"
      ]
     },
     "execution_count": 13,
     "metadata": {},
     "output_type": "execute_result"
    },
    {
     "data": {
      "image/png": "[encoded data removed]",
      "text/plain": [
       "<Figure size 1008x720 with 1 Axes>"
      ]
     },
     "metadata": {},
     "output_type": "display_data"
    }
   ],
   "source": [
    "plt.subplot(211)\n",
    "plt.hist(sigmas, bins=30);\n",
    "plt.xlabel('Sigma')"
   ]
  },
  {
   "cell_type": "code",
   "execution_count": null,
   "metadata": {},
   "outputs": [],
   "source": []
  }
 ],
 "metadata": {
  "kernelspec": {
   "display_name": "Python 2",
   "language": "python",
   "name": "python2"
  },
  "language_info": {
   "codemirror_mode": {
    "name": "ipython",
    "version": 2
   },
   "file_extension": ".py",
   "mimetype": "text/x-python",
   "name": "python",
   "nbconvert_exporter": "python",
   "pygments_lexer": "ipython2",
   "version": "2.7.11"
  }
 },
 "nbformat": 4,
 "nbformat_minor": 2
}
